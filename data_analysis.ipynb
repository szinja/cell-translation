{
 "cells": [
  {
   "cell_type": "markdown",
   "metadata": {},
   "source": [
    "### Small lung cancer data analysis"
   ]
  },
  {
   "cell_type": "code",
   "execution_count": 1,
   "metadata": {},
   "outputs": [
    {
     "name": "stdout",
     "output_type": "stream",
     "text": [
      "    cruk_id tumour_id_muttable_cruk tumour_id_per_patient  age     sex  \\\n",
      "0  CRUK0034                CRUK0034              CRUK0034   68  Female   \n",
      "1  CRUK0150                CRUK0150              CRUK0150   81    Male   \n",
      "2  CRUK0159                CRUK0159              CRUK0159   60    Male   \n",
      "3  CRUK0090                CRUK0090              CRUK0090   65    Male   \n",
      "4  CRUK0045                CRUK0045              CRUK0045   85    Male   \n",
      "\n",
      "        ethnicity  cigs_perday  years_smoking  packyears  \\\n",
      "0    White- Irish         20.0             35     35.000   \n",
      "1  White- British         44.5             49    109.025   \n",
      "2  White- British         20.0             38     38.000   \n",
      "3  White- British         10.0             35     17.500   \n",
      "4  White- British         10.0             25     12.500   \n",
      "\n",
      "  smoking_status_merged  ...  os_time  cens_dfs dfs_time cens_dfs_any_event  \\\n",
      "0             Ex-Smoker  ...     1849         0     1849                  0   \n",
      "1             Ex-Smoker  ...     1362         1     1362                  1   \n",
      "2                Smoker  ...     2224         1     2224                  1   \n",
      "3             Ex-Smoker  ...     2365         1     1143                  1   \n",
      "4             Ex-Smoker  ...      986         1      917                  1   \n",
      "\n",
      "   dfs_time_any_event cens_lung_event lung_event_time          Relapse_cat  \\\n",
      "0                1849               0            1849                  NaN   \n",
      "1                1362               0            1362                  NaN   \n",
      "2                1935               0            2224  Second primary lung   \n",
      "3                1143               1            1143        Intrathoracic   \n",
      "4                 917               1             917        Intrathoracic   \n",
      "\n",
      "   Relapse_cat_new  tx100  \n",
      "0           No rec   True  \n",
      "1           No rec  False  \n",
      "2           No rec  False  \n",
      "3    Intrathoracic   True  \n",
      "4    Intrathoracic   True  \n",
      "\n",
      "[5 rows x 50 columns]\n"
     ]
    }
   ],
   "source": [
    "import pandas as pd\n",
    "\n",
    "# Load the CSV file into a pandas DataFrame\n",
    "data2_python = pd.read_csv(\"/Users/sisiphozinja/Documents/GitHub/cell-translation/data/tracerX.csv\")\n",
    "\n",
    "# Display the first few rows to verify\n",
    "print(data2_python.head())"
   ]
  },
  {
   "cell_type": "markdown",
   "metadata": {},
   "source": [
    "I actually need Transcriptome Profiling dataset, such as 3b00356a-e947-42f1-8b5f-6dcd789d9272.rna_seq.star_splice_junctions.tsv.gz from NIH from Project\t\n",
    "APOLLO-LUAD.\n",
    "\n",
    "Maybe?\n",
    "https://www.ncbi.nlm.nih.gov/gene/3845"
   ]
  },
  {
   "cell_type": "code",
   "execution_count": null,
   "metadata": {},
   "outputs": [],
   "source": []
  }
 ],
 "metadata": {
  "kernelspec": {
   "display_name": "base",
   "language": "python",
   "name": "python3"
  },
  "language_info": {
   "codemirror_mode": {
    "name": "ipython",
    "version": 3
   },
   "file_extension": ".py",
   "mimetype": "text/x-python",
   "name": "python",
   "nbconvert_exporter": "python",
   "pygments_lexer": "ipython3",
   "version": "3.12.4"
  }
 },
 "nbformat": 4,
 "nbformat_minor": 2
}
